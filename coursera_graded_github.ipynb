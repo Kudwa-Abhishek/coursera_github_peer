{
 "cells": [
  {
   "cell_type": "markdown",
   "id": "0863d342",
   "metadata": {},
   "source": [
    "# Coursera_Title_Peer_Graded."
   ]
  },
  {
   "cell_type": "markdown",
   "id": "5b953d13",
   "metadata": {},
   "source": [
    "## Introduction\n",
    "\n",
    "Welcome to this Jupyter Notebook exercise! In this notebook, we will explore various aspects of Jupyter Notebook and its functionalities.  Let's get started!\n"
   ]
  },
  {
   "cell_type": "markdown",
   "id": "9d983249",
   "metadata": {},
   "source": [
    "## Data Science Languages\n",
    "\n",
    "1. Python\n",
    "2. R\n",
    "3. Julia\n",
    "4. SQL\n",
    "5. MATLAB\n",
    "6. Scala\n",
    "7. Julia\n",
    "8. JavaScript\n",
    "9. SAS\n",
    "10. **Java\n",
    "\n",
    "These are some of the prominent languages used in data science, each with its own strengths and applications.\n"
   ]
  },
  {
   "cell_type": "markdown",
   "id": "2735c265",
   "metadata": {},
   "source": [
    "## Data Science Libraries\n",
    "\n",
    "- NumPy\n",
    "- Pandas\n",
    "- Matplotlib\n",
    "- Seaborn\n",
    "- Scikit-learn\n",
    "- TensorFlow\n",
    "- Keras\n",
    "- PyTorch\n",
    "- SciPy\n",
    "- Statsmodels\n",
    "- NLTK\n",
    "- Gensim\n",
    "- BeautifulSoup\n",
    "- Plotly\n",
    "- Bokeh\n",
    "- Dask\n",
    "- XGBoost\n",
    "- LightGBM\n",
    "- CatBoost\n",
    "- OpenCV\n",
    "- SpaCy\n",
    "- Hugging Face Transformers\n"
   ]
  },
  {
   "cell_type": "markdown",
   "id": "18a8229a",
   "metadata": {},
   "source": [
    "#6\n",
    "## Data Science Tools\n",
    "\n",
    "| Tool         | Description                                              |\n",
    "|--------------|----------------------------------------------------------|\n",
    "| Jupyter      | Interactive notebook for data analysis and visualization |\n",
    "| RStudio      | Integrated development environment for R                  |\n",
    "| Spyder       | Python IDE for scientific computing                       |\n",
    "| Visual Studio Code | Versatile code editor with extensions for data science  |\n",
    "| Anaconda     | Distribution of Python and R packages for data science    |\n",
    "| Google Colab | Cloud-based Jupyter Notebook environment by Google        |\n",
    "| Kaggle       | Platform for data science competitions and datasets      |\n",
    "| Tableau      | Data visualization software                               |\n",
    "| Power BI     | Business analytics tool by Microsoft                      |\n",
    "| RapidMiner   | Data science platform for building predictive models     |\n",
    "| KNIME        | Open-source data analytics platform                       |\n",
    "| Weka         | Collection of machine learning algorithms in Java        |\n",
    "| D3.js        | JavaScript library for producing dynamic, interactive visualizations |\n",
    "| Apache Spark | Open-source distributed computing system for big data processing |\n",
    "| Hadoop       | Framework for distributed storage and processing of large datasets |\n",
    "| Docker       | Platform for developing, shipping, and running applications in containers |\n",
    "| Kubernetes   | Open-source platform for automating deployment, scaling, and management of containerized applications |\n",
    "| Git          | Version control system for tracking changes in code       |\n",
    "| GitHub       | Web-based platform for hosting and collaborating on Git repositories |\n",
    "| Bitbucket    | Git repository management solution by Atlassian           |\n",
    "| Conda        | Package manager and environment manager for multiple programming languages |\n"
   ]
  },
  {
   "cell_type": "markdown",
   "id": "93b3c1dc",
   "metadata": {},
   "source": [
    "##7 \n",
    "## Introduction to Arithmetic Expressions\n",
    "\n",
    "Arithmetic expressions are fundamental in mathematics and programming. They involve operations like addition, subtraction, multiplication, and division. In this section, we'll delve into arithmetic expressions using Python, showcasing how to perform these operations and providing examples to illustrate their usage.\n"
   ]
  },
  {
   "cell_type": "code",
   "execution_count": 2,
   "id": "49bbb931",
   "metadata": {},
   "outputs": [
    {
     "name": "stdout",
     "output_type": "stream",
     "text": [
      "Result of multiplication: 50\n",
      "Result of addition: 15\n"
     ]
    }
   ],
   "source": [
    "#8)\n",
    "#multiply and add two numbers:\n",
    "num1 = 10\n",
    "num2 = 5\n",
    "\n",
    "# Multiplication\n",
    "result_multiply = num1 * num2\n",
    "print(\"Result of multiplication:\", result_multiply)\n",
    "\n",
    "# Addition\n",
    "result_addition = num1 + num2\n",
    "print(\"Result of addition:\", result_addition)\n"
   ]
  },
  {
   "cell_type": "code",
   "execution_count": 3,
   "id": "52f1975d",
   "metadata": {},
   "outputs": [
    {
     "name": "stdout",
     "output_type": "stream",
     "text": [
      "Minutes: 150\n",
      "Hours: 2.5\n"
     ]
    }
   ],
   "source": [
    "#9\n",
    "# Convert minutes to hours\n",
    "minutes = 150\n",
    "\n",
    "# Conversion\n",
    "hours = minutes / 60\n",
    "\n",
    "print(\"Minutes:\", minutes)\n",
    "print(\"Hours:\", hours)\n"
   ]
  },
  {
   "cell_type": "markdown",
   "id": "2b29d100",
   "metadata": {},
   "source": [
    "## Objectives\n",
    "\n",
    "- Understand basic markdown syntax and its application in Jupyter Notebook.\n",
    "- Explore arithmetic expressions and mathematical operations in Python.\n",
    "- Practice using code cells to execute Python code and display results.\n",
    "- Learn how to document code using markdown cells for better readability and understanding.\n",
    "- Gain familiarity with Jupyter Notebook as a tool for data analysis, visualization, and collaboration.\n"
   ]
  },
  {
   "cell_type": "markdown",
   "id": "0bb010ba",
   "metadata": {},
   "source": [
    "## Author\n",
    "\n",
    "This notebook was authored by [Abhishek R Kudwa].\n"
   ]
  },
  {
   "cell_type": "code",
   "execution_count": null,
   "id": "566b4ee7",
   "metadata": {},
   "outputs": [],
   "source": []
  }
 ],
 "metadata": {
  "kernelspec": {
   "display_name": "Python 3 (ipykernel)",
   "language": "python",
   "name": "python3"
  },
  "language_info": {
   "codemirror_mode": {
    "name": "ipython",
    "version": 3
   },
   "file_extension": ".py",
   "mimetype": "text/x-python",
   "name": "python",
   "nbconvert_exporter": "python",
   "pygments_lexer": "ipython3",
   "version": "3.9.13"
  }
 },
 "nbformat": 4,
 "nbformat_minor": 5
}
